{
 "cells": [
  {
   "cell_type": "markdown",
   "id": "646afabe",
   "metadata": {},
   "source": [
    "# NLP"
   ]
  },
  {
   "cell_type": "markdown",
   "id": "b963615f",
   "metadata": {},
   "source": [
    "## Design Statement\n",
    "Design a conversational journaling assistant to enable young adults in a mental health self-reflection context to express and understand their emotions with personalized sentiment feedback and journaling prompts."
   ]
  },
  {
   "cell_type": "markdown",
   "id": "d8a3f6fc",
   "metadata": {},
   "source": [
    "## Techincal Architecture\n",
    "### System Diagram\n",
    "graph TD\n",
    "    A[User Journal Entry] --> B[LangChain LLMChain]\n",
    "    B --> C[Sentiment Reflection Generator]\n",
    "    B --> D[Follow-up Prompt Generator]\n",
    "    B --> E[Memory Storage (optional VectorStore)]\n",
    "    C --> F[Streamlit UI Output]\n",
    "    D --> F[Streamlit UI Output]\n",
    "\n",
    "### Components overview\n",
    "| Component       | Tool                                         | Description                                                            |\n",
    "| --------------- | -------------------------------------------- | ---------------------------------------------------------------------- |\n",
    "| LLM             | Ollama                              | LLM model for sentiment + response generation                          |\n",
    "| LangChain       | `LLMChain`, `PromptTemplate`, `SimpleMemory` | Core logic chaining inputs and outputs                                 |\n",
    "| Streamlit       | Frontend                                     | UI with textbox, buttons, and results                                  |\n",
    "| Optional Memory | Chroma / FAISS                               | Store past entries and provide history-aware feedback (future upgrade) |\n"
   ]
  },
  {
   "cell_type": "markdown",
   "id": "aa799a34",
   "metadata": {},
   "source": [
    "## Prompt Template\n",
    "PromptTemplate.from_template(\"\"\"\n",
    "You are a kind and supportive mental health assistant. Analyze the following journal entry, and respond with:\n",
    "\n",
    "1. A brief reflection on the user's feelings.\n",
    "2. A thoughtful follow-up journaling question.\n",
    "\n",
    "Journal Entry:\n",
    "\"{entry}\"\n",
    "\n",
    "Reflection:\n",
    "\"\"\")"
   ]
  },
  {
   "cell_type": "markdown",
   "id": "b564d12f",
   "metadata": {},
   "source": [
    "## Streamlit App Code\n",
    "the code can be found in app.py"
   ]
  }
 ],
 "metadata": {
  "kernelspec": {
   "display_name": "Python 3",
   "language": "python",
   "name": "python3"
  },
  "language_info": {
   "codemirror_mode": {
    "name": "ipython",
    "version": 3
   },
   "file_extension": ".py",
   "mimetype": "text/x-python",
   "name": "python",
   "nbconvert_exporter": "python",
   "pygments_lexer": "ipython3",
   "version": "3.10.12"
  }
 },
 "nbformat": 4,
 "nbformat_minor": 5
}
